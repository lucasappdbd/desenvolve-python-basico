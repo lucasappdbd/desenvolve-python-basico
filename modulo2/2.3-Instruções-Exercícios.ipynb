{
 "cells": [
  {
   "cell_type": "markdown",
   "metadata": {
    "id": "1pCTdOHonv5f"
   },
   "source": [
    "# Módulo 2\n",
    "\n",
    "## 2.3 Instruções e Expressões\n",
    "\n",
    "### Q1\n",
    "\n",
    "Faça um programa que armazene o valor de 20 reais de salário por hora de um trabalhador, e o número de 40 horas trabalhadas na semana. Com essas informações, calcule e imprima:\n",
    "- Salário semanal bruto\n",
    "- Valor descontado por semana INSS (10% do bruto)\n",
    "- Valor descontado por semana pelo sindicato (5% do bruto)\n",
    "- Salário semanal líquido (Bruto - Descontos)"
   ]
  },
  {
   "cell_type": "code",
   "execution_count": 1,
   "metadata": {
    "id": "hVbX0I97nj6M"
   },
   "outputs": [
    {
     "name": "stdout",
     "output_type": "stream",
     "text": [
      "Salário semanal bruto: 800 reais.\n",
      "Valor descontado por semana INSS: 80.0 reais.\n",
      "Valor descontado por semana pelo sindicato: 40.0 reais.\n",
      "Salário semanal líquido: 680.0 reais.\n"
     ]
    }
   ],
   "source": [
    "## Escreva e execute seu código aqui\n",
    "salario_por_hora = 20\n",
    "carga_horaria = 40\n",
    "salario_bruto = salario_por_hora * carga_horaria\n",
    "print(\"Salário semanal bruto:\", salario_bruto, \"reais.\")\n",
    "desconto_inss = salario_bruto * 0.10\n",
    "print(\"Valor descontado por semana INSS:\", desconto_inss, \"reais.\")\n",
    "desconto_sindicato = salario_bruto * 0.05\n",
    "print(\"Valor descontado por semana pelo sindicato:\", desconto_sindicato, \"reais.\")\n",
    "total_descontos = desconto_inss + desconto_sindicato\n",
    "salario_liquido = salario_bruto - total_descontos\n",
    "print(\"Salário semanal líquido:\", salario_liquido, \"reais.\")"
   ]
  },
  {
   "cell_type": "markdown",
   "metadata": {
    "id": "pIxKX9J2oGZ1"
   },
   "source": [
    "### Q2\n",
    "\n",
    "Altere o programa anterior para a partir dos valores de horas trabalhadas por semana e salário por hora, calcular **em somente duas instruções**:\n",
    "- Salário semanal bruto\n",
    "- Salário semanal líquido com todos os descontos. Para a segunda instrução, realize todos os cálculos aritméticos em uma expressão composta.\n"
   ]
  },
  {
   "cell_type": "code",
   "execution_count": 2,
   "metadata": {
    "id": "pAHw9Xf9oGoi"
   },
   "outputs": [
    {
     "name": "stdout",
     "output_type": "stream",
     "text": [
      "Salário semanal bruto: 800 reais.\n",
      "Salário semanal líquido: 680.0 reais.\n"
     ]
    }
   ],
   "source": [
    "## Escreva e execute seu código aqui\n",
    "salario_por_hora = 20\n",
    "carga_horaria = 40\n",
    "salario_bruto = salario_por_hora * carga_horaria\n",
    "salario_liquido = salario_bruto - (salario_bruto * 0.10) - (salario_bruto * 0.05)\n",
    "print(\"Salário semanal bruto:\", salario_bruto, \"reais.\")\n",
    "print(\"Salário semanal líquido:\", salario_liquido, \"reais.\")"
   ]
  },
  {
   "cell_type": "markdown",
   "metadata": {
    "id": "m8tlHRuWpBOB"
   },
   "source": [
    "### Q3\n",
    "\n",
    "Você está desenvolvendo um software de conversão de moeda e precisa calcular o valor equivalente em yuan chinês a partir de uma quantia em real. A taxa de câmbio é de 0.69 BRL (real) para 1 CNY (yuan). Escreva um programa que define em uma variável uma quantia em reais (BRL) e calcula o valor equivalente em yuan (CNY). Imprima o resultado."
   ]
  },
  {
   "cell_type": "code",
   "execution_count": 3,
   "metadata": {
    "id": "2bPw7uF6oeL9"
   },
   "outputs": [
    {
     "name": "stdout",
     "output_type": "stream",
     "text": [
      "100 BRL = 144.92753623188406 CNY.\n"
     ]
    }
   ],
   "source": [
    "## Escreva e execute seu código aqui\n",
    "tx_cambio = 0.69\n",
    "qtd_brl = 100 # define o valor em BRL, o valor 100 foi usado como exemplo\n",
    "qtd_cny = qtd_brl / tx_cambio\n",
    "print(qtd_brl, \"BRL =\", qtd_cny, \"CNY.\")"
   ]
  },
  {
   "cell_type": "markdown",
   "metadata": {
    "id": "-Na3ltDCp74A"
   },
   "source": [
    "### Q4\n",
    "\n",
    "Você é um treinador de corrida e deseja calcular a velocidade média que um atleta precisa manter para completar a Maratona Internacional de São Silvestre, que tem uma distância total de 42.195 km. A fórmula para calcular a velocidade média ($v\\_media$) é dada por $v\\_media = \\frac{distancia}{tempo}$ . Escreva um programa em Python para calcular a velocidade média necessária para completar a maratona em 3 horas.\n",
    "\n",
    "**Calcule e imprima o resultado em metros/segundo**, ou seja, converta a distância de quilômetros para metros ($metro = \\frac{km}{1000}$) e a velocidade de horas para segundos $(segundo = \\frac{hora}{3600})$."
   ]
  },
  {
   "cell_type": "code",
   "execution_count": 4,
   "metadata": {
    "id": "Bn6l8kcSrE4L"
   },
   "outputs": [
    {
     "name": "stdout",
     "output_type": "stream",
     "text": [
      "A velocidade média necessária para completar a Maratona de São Silvestre em 3 horas é de 3.9069444444444446 m/s.\n"
     ]
    }
   ],
   "source": [
    "## Escreva e execute seu código aqui\n",
    "percurso_m = 42.195 * 1000\n",
    "tempo_s = 3 * 3600\n",
    "velocidade_ms = percurso_m / tempo_s\n",
    "print(\"A velocidade média necessária para completar a Maratona de São Silvestre em 3 horas é de\", velocidade_ms,\"m/s.\")"
   ]
  }
 ],
 "metadata": {
  "colab": {
   "provenance": []
  },
  "kernelspec": {
   "display_name": "Python 3 (ipykernel)",
   "language": "python",
   "name": "python3"
  },
  "language_info": {
   "codemirror_mode": {
    "name": "ipython",
    "version": 3
   },
   "file_extension": ".py",
   "mimetype": "text/x-python",
   "name": "python",
   "nbconvert_exporter": "python",
   "pygments_lexer": "ipython3",
   "version": "3.12.2"
  }
 },
 "nbformat": 4,
 "nbformat_minor": 4
}
