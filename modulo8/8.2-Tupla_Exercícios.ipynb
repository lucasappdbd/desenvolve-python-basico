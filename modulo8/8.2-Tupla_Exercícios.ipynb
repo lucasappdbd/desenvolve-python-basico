{
 "cells": [
  {
   "cell_type": "markdown",
   "id": "0d5035b5",
   "metadata": {},
   "source": [
    "# Tupla\n",
    "\n",
    "## Aula 8.2"
   ]
  },
  {
   "cell_type": "markdown",
   "id": "0bdece85",
   "metadata": {},
   "source": [
    "### Q1. \n",
    "\n",
    "Escreva uma função ```calcula_area_perimetro``` que recebe **apenas um parâmetro** ```dimensoes``` e calcula a área e o perímetro a partir das dimensões dadas. \n",
    "- ```dimensoes``` é uma tupla (largura, comprimento) com as dimensões de um terreno retangular\n",
    "- Sua função deve calcular e retornar as seguintes operações\n",
    "   - $area = largura \\times comprimento$\n",
    "   - $perimetro = 2\\times(largura + comprimento)$\n"
   ]
  },
  {
   "cell_type": "code",
   "execution_count": 1,
   "id": "0a258eba",
   "metadata": {},
   "outputs": [],
   "source": [
    "# Implemente aqui a função calcula_area_perimetro\n",
    "def calcula_area_perimetro(dimensoes):\n",
    "    area = dimensoes[0] * dimensoes[1]\n",
    "    perimetro = 2 * (dimensoes[0] + dimensoes[1])\n",
    "    return area, perimetro"
   ]
  },
  {
   "cell_type": "code",
   "execution_count": 2,
   "id": "e1866c04",
   "metadata": {},
   "outputs": [
    {
     "name": "stdout",
     "output_type": "stream",
     "text": [
      "(35, 24) <class 'tuple'>\n",
      "Área: 35 m²\n",
      "Perímetro: 24 m\n"
     ]
    }
   ],
   "source": [
    "# Complete o exemplo de uso abaixo\n",
    "largura = 5\n",
    "comprimento = 7\n",
    "dimensoes = (largura, comprimento)\n",
    "\n",
    "retorno = calcula_area_perimetro(dimensoes)\n",
    "print(retorno, type(retorno))\n",
    "\n",
    "area = retorno[0]\n",
    "perimetro = retorno[1]\n",
    "\n",
    "print(f\"Área: {area} m²\")\n",
    "print(f\"Perímetro: {perimetro} m\")"
   ]
  },
  {
   "cell_type": "markdown",
   "id": "cbdcb986",
   "metadata": {},
   "source": [
    "### Q2.\n",
    "\n",
    "Dada uma string, imprima todas as vogais que aparecem na string, bem como todos os índices onde elas ocorrem. Para isso, use a função ```enumerate```.\n"
   ]
  },
  {
   "cell_type": "code",
   "execution_count": 3,
   "id": "1f6b1f2d",
   "metadata": {},
   "outputs": [
    {
     "name": "stdout",
     "output_type": "stream",
     "text": [
      "0 O\n",
      "3 a\n",
      "5 o\n",
      "8 o\n",
      "9 e\n",
      "10 u\n",
      "12 a\n",
      "15 o\n",
      "16 u\n",
      "18 a\n",
      "21 a\n",
      "23 A\n",
      "25 i\n",
      "27 e\n"
     ]
    }
   ],
   "source": [
    "frase = \"O rato roeu a roupa da Alice\"\n",
    "\n",
    "# Implemente aqui sua solução\n",
    "for i, letra in enumerate(frase):\n",
    "    if letra.lower() in \"aeiou\":\n",
    "        print(i, letra)"
   ]
  },
  {
   "cell_type": "markdown",
   "id": "8d46663f",
   "metadata": {},
   "source": [
    "### Q3.\n",
    "\n",
    "Escreva uma função em Python chamada ```ordenar_tuplas``` que recebe uma lista de tuplas, cada uma contendo o nome de um aluno e sua respectiva média, e retorna uma nova lista ordenada em ordem decrescente de médias."
   ]
  },
  {
   "cell_type": "code",
   "execution_count": 4,
   "id": "469f2e6e",
   "metadata": {},
   "outputs": [],
   "source": [
    "# Implemente aqui a função ordenar_tuplas\n",
    "def ordenar_tuplas(lista):\n",
    "    lista_ordenada_notas = []\n",
    "    lista_ordenada_nomes = []\n",
    "    for i in range(len(lista)):     \n",
    "        lista_ordenada_notas.append(((lista[i][1]), lista[i][0]))\n",
    "    lista_ordenada_notas = sorted(lista_ordenada_notas, reverse = True)\n",
    "    for i in range(len(lista)):\n",
    "        lista_ordenada_nomes.append(((lista_ordenada_notas[i][1]), lista_ordenada_notas[i][0]))\n",
    "    return lista_ordenada_nomes"
   ]
  },
  {
   "cell_type": "code",
   "execution_count": 5,
   "id": "1972c62b",
   "metadata": {},
   "outputs": [
    {
     "name": "stdout",
     "output_type": "stream",
     "text": [
      "[('Charlie', 9.0), ('David', 8.8), ('Alice', 8.5), ('Bob', 7.2)]\n"
     ]
    }
   ],
   "source": [
    "# Exemplo de uso:\n",
    "alunos_notas = [('Alice', 8.5), ('Bob', 7.2), ('Charlie', 9.0), ('David', 8.8)]\n",
    "resultado = ordenar_tuplas(alunos_notas)\n",
    "print(resultado)\n",
    "# Saída esperada: [('Charlie', 9.0), ('David', 8.8), ('Alice', 8.5), ('Bob', 7.2)]"
   ]
  },
  {
   "cell_type": "markdown",
   "id": "e0268fae",
   "metadata": {},
   "source": [
    "### Q4.\n",
    "\n",
    "Escreva uma função em Python chamada ```comprimir_tuplas``` que recebe uma lista de tuplas, cada uma contendo uma palavra e um número, e retorna uma nova lista de tuplas onde palavras idênticas são agrupadas e seus números são somados.\n",
    "\n"
   ]
  },
  {
   "cell_type": "code",
   "execution_count": 6,
   "id": "30a221f3",
   "metadata": {},
   "outputs": [],
   "source": [
    "# Implemente aqui a função comprimir_tuplas\n",
    "def comprimir_tuplas(lista):\n",
    "    fruta = \"\"\n",
    "    quantidade = \"\"\n",
    "    lista_comprimida = []\n",
    "    for i in range(len(lista)):\n",
    "        fruta = lista[i][0]\n",
    "        quantidade = 0\n",
    "        for cont in range(len(lista)):\n",
    "            if lista [cont][0] == fruta:\n",
    "                quantidade += lista[cont][1]\n",
    "        if (fruta, quantidade) not in lista_comprimida:\n",
    "            lista_comprimida.append((fruta, quantidade))\n",
    "    return lista_comprimida"
   ]
  },
  {
   "cell_type": "code",
   "execution_count": 7,
   "id": "80972bac",
   "metadata": {},
   "outputs": [
    {
     "name": "stdout",
     "output_type": "stream",
     "text": [
      "[('maçã', 8), ('banana', 5), ('laranja', 1)]\n"
     ]
    }
   ],
   "source": [
    "# Exemplo de uso:\n",
    "tuplas_originais = [('maçã', 3), ('banana', 2), ('maçã', 5), ('laranja', 1), ('banana', 3)]\n",
    "resultado = comprimir_tuplas(tuplas_originais)\n",
    "print(resultado)\n",
    "# Saída esperada: [('maçã', 8), ('banana', 5), ('laranja', 1)]"
   ]
  },
  {
   "cell_type": "markdown",
   "id": "649a5082",
   "metadata": {},
   "source": [
    "### Q5. \n",
    "\n",
    "- Escreva um script que peça o nome e a idade de todos na fila de uma balada. Crie uma lista de tuplas com os pares ```(nome, idade)``` de cada um. \n",
    "- Em seguida crie e imprima duas tuplas apenas com os nomes, uma com os menores de idade que não poderão entrar, e uma com os maiores de idade (```idade >= 18```). \n",
    "\n"
   ]
  },
  {
   "cell_type": "code",
   "execution_count": 8,
   "id": "47cb0573",
   "metadata": {},
   "outputs": [
    {
     "name": "stdin",
     "output_type": "stream",
     "text": [
      "Quantas pessoas estão na fila?  8\n",
      "Digite o nome da 1ª pessoa:  Lucas\n",
      "Digite a idade da 1ª pessoa:  19\n",
      "Digite o nome da 2ª pessoa:  Maria\n",
      "Digite a idade da 2ª pessoa:  21\n",
      "Digite o nome da 3ª pessoa:  Matheus\n",
      "Digite a idade da 3ª pessoa:  17\n",
      "Digite o nome da 4ª pessoa:  Eduarda\n",
      "Digite a idade da 4ª pessoa:  22\n",
      "Digite o nome da 5ª pessoa:  Rodrigo\n",
      "Digite a idade da 5ª pessoa:  15\n",
      "Digite o nome da 6ª pessoa:  Thiago\n",
      "Digite a idade da 6ª pessoa:  16\n",
      "Digite o nome da 7ª pessoa:  Carolina\n",
      "Digite a idade da 7ª pessoa:  18\n",
      "Digite o nome da 8ª pessoa:  Stefany\n",
      "Digite a idade da 8ª pessoa:  20\n"
     ]
    },
    {
     "name": "stdout",
     "output_type": "stream",
     "text": [
      "\n",
      "Menores: ('Matheus', 'Rodrigo', 'Thiago')\n",
      "Adultos: ('Lucas', 'Maria', 'Eduarda', 'Carolina', 'Stefany')\n"
     ]
    }
   ],
   "source": [
    "## Implemente aqui sua solução\n",
    "pessoas = []\n",
    "\n",
    "qtd_pessoas = int(input(\"Quantas pessoas estão na fila? \"))\n",
    "\n",
    "cont = 0\n",
    "\n",
    "for i in range(qtd_pessoas):\n",
    "    cont += 1\n",
    "    nome = input(f\"Digite o nome da {cont}ª pessoa: \")\n",
    "    idade = int(input(f\"Digite a idade da {cont}ª pessoa: \"))\n",
    "    pessoas.append((nome, idade))\n",
    "\n",
    "maiores = []\n",
    "menores = []\n",
    "\n",
    "for i in range(len(pessoas)):\n",
    "    if pessoas[i][1] >= 18:\n",
    "        maiores.append(pessoas[i][0])\n",
    "    else:\n",
    "        menores.append(pessoas[i][0])\n",
    "\n",
    "maiores = tuple(maiores)\n",
    "menores = tuple(menores)\n",
    "\n",
    "print(f\"\\nMenores: {menores}\")\n",
    "print(f\"Adultos: {maiores}\")"
   ]
  }
 ],
 "metadata": {
  "kernelspec": {
   "display_name": "Python 3 (ipykernel)",
   "language": "python",
   "name": "python3"
  },
  "language_info": {
   "codemirror_mode": {
    "name": "ipython",
    "version": 3
   },
   "file_extension": ".py",
   "mimetype": "text/x-python",
   "name": "python",
   "nbconvert_exporter": "python",
   "pygments_lexer": "ipython3",
   "version": "3.12.2"
  }
 },
 "nbformat": 4,
 "nbformat_minor": 5
}
