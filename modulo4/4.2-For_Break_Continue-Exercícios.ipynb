{
 "cells": [
  {
   "cell_type": "markdown",
   "id": "29e89030",
   "metadata": {},
   "source": [
    "# Módulo 4 - Repetições\n",
    "\n",
    "## Aulas 4.2 - Comando ```for``` e 4.3 Break e Continue"
   ]
  },
  {
   "cell_type": "markdown",
   "id": "a45b42df",
   "metadata": {},
   "source": [
    "### Q1.\n",
    "\n",
    "Crie um programa em Python que utilize o comando for para imprimir os números de 10 a 1, em ordem decrescente."
   ]
  },
  {
   "cell_type": "code",
   "execution_count": 1,
   "id": "55a75b3d",
   "metadata": {},
   "outputs": [
    {
     "name": "stdout",
     "output_type": "stream",
     "text": [
      "10\n",
      "9\n",
      "8\n",
      "7\n",
      "6\n",
      "5\n",
      "4\n",
      "3\n",
      "2\n",
      "1\n"
     ]
    }
   ],
   "source": [
    "## Escreva e execute seu código aqui\n",
    "for i in range(10,0,-1):\n",
    "    print(i)"
   ]
  },
  {
   "cell_type": "markdown",
   "id": "94b47c36",
   "metadata": {},
   "source": [
    "### Q2.\n",
    "\n",
    "Dado um número inteiro positivo informado pelo usuário, crie um programa em Python que utilize o comando for para calcular e exibir a soma dos números de 1 até o número informado. Ou seja, $1 + 2 + 3 + ... + n$\n",
    "\n",
    "Exemplo de interação:\n",
    "```\n",
    "Digite um número: 5\n",
    "A soma dos números de 1 a 5 é 15\n",
    "```\n"
   ]
  },
  {
   "cell_type": "code",
   "execution_count": 2,
   "id": "45b71596",
   "metadata": {},
   "outputs": [
    {
     "name": "stdin",
     "output_type": "stream",
     "text": [
      "Digite um número:  5\n"
     ]
    },
    {
     "name": "stdout",
     "output_type": "stream",
     "text": [
      "A soma dos números de 1 a 5 é 15.\n"
     ]
    }
   ],
   "source": [
    "## Escreva e execute seu código aqui\n",
    "n = int(input(\"Digite um número: \"))\n",
    "cont = 0\n",
    "soma = 0\n",
    "for cont in range(1, n+1):\n",
    "    soma += cont\n",
    "    cont += 1\n",
    "print(f\"A soma dos números de 1 a {n} é {soma}.\")"
   ]
  },
  {
   "cell_type": "markdown",
   "id": "0411d170",
   "metadata": {},
   "source": [
    "### Q3.\n",
    "\n",
    "Escreva um programa que lê 10 valores inteiros positivos do usuário e ao final imprime a média dos valores digitados com duas casas decimais.\n",
    "\n",
    "```\n",
    "Digite 10 números positivos:\n",
    "3\n",
    "2\n",
    "12\n",
    "14\n",
    "20\n",
    "42\n",
    "19\n",
    "0\n",
    "8\n",
    "1\n",
    "A média dos valores digitados é 12.10\n",
    "```"
   ]
  },
  {
   "cell_type": "code",
   "execution_count": 3,
   "id": "3f72f358",
   "metadata": {},
   "outputs": [
    {
     "name": "stdout",
     "output_type": "stream",
     "text": [
      "Digite 10 números positivos: \n"
     ]
    },
    {
     "name": "stdin",
     "output_type": "stream",
     "text": [
      " 3\n",
      " 2\n",
      " 12\n",
      " 14\n",
      " 20\n",
      " 42\n",
      " 19\n",
      " 0\n",
      " 8\n",
      " 1\n"
     ]
    },
    {
     "name": "stdout",
     "output_type": "stream",
     "text": [
      "A média dos valores digitados é 12.10\n"
     ]
    }
   ],
   "source": [
    "## Escreva e execute seu código aqui\n",
    "print(\"Digite 10 números positivos: \")\n",
    "cont = 0\n",
    "soma = 0\n",
    "for cont in range(1,11):\n",
    "    n = int(input())\n",
    "    soma += n\n",
    "    cont += 1\n",
    "media = soma / 10\n",
    "print(f\"A média dos valores digitados é {media:.2f}\")"
   ]
  },
  {
   "cell_type": "markdown",
   "id": "d62e27ff",
   "metadata": {},
   "source": [
    "### Q4.\n",
    "\n",
    "Você vai criar um sistema que registra os resultados dos jogos do Atlético MG ao longo de um campeonato. Seu sistema vai receber os resultados de todos os jogos do Galo, e deve calcular a pontuação do time sabendo que vitórias valem 3 pontos, empates 1 ponto e derrotas 0 pontos.\n",
    "\n",
    "Entrada: <br>\n",
    "A primeira linha de entrada é um inteiro N com a quantidade jogos do galo. Para cada jogo você deve ler 2 inteiros, o primeiro com a quantidade de gols do galo e o segundo com a quantidade de gols do time oponente. \n",
    "\n",
    "Saída: <br>\n",
    "Apresente a soma de vitórias, empates e derrotas do galo, junto com o cálculo da pontuação total.\n",
    "\n",
    "Ex:\n",
    "```\n",
    "Entrada:\n",
    "4\n",
    "2\n",
    "0\n",
    "1\n",
    "1\n",
    "0\n",
    "3\n",
    "1\n",
    "0\n",
    "\n",
    "Saída:\n",
    "Vitórias: 2\n",
    "Empates: 1\n",
    "Derrotas: 1\n",
    "Pontuação: 7\n",
    "\n",
    "```\n",
    "\n",
    "\n"
   ]
  },
  {
   "cell_type": "code",
   "execution_count": 4,
   "id": "d3fdfc2a",
   "metadata": {},
   "outputs": [
    {
     "name": "stdin",
     "output_type": "stream",
     "text": [
      "Informe a quantidade de jogos:  4\n",
      "Gols do Atlético-MG:  2\n",
      "Gols do oponente:  0\n",
      "Gols do Atlético-MG:  1\n",
      "Gols do oponente:  1\n",
      "Gols do Atlético-MG:  0\n",
      "Gols do oponente:  3\n",
      "Gols do Atlético-MG:  1\n",
      "Gols do oponente:  0\n"
     ]
    },
    {
     "name": "stdout",
     "output_type": "stream",
     "text": [
      "Vitórias: 2\n",
      "Empates: 1\n",
      "Derrotas: 1\n",
      "Pontuação: 7\n"
     ]
    }
   ],
   "source": [
    "## Escreva e execute seu código aqui\n",
    "n = int(input(\"Informe a quantidade de jogos: \"))\n",
    "cont = 0\n",
    "vitorias = 0\n",
    "empates = 0\n",
    "derrotas = 0\n",
    "pontuacao = 0\n",
    "\n",
    "for cont in range(1, n+1):\n",
    "    gols_atletico = int(input(\"Gols do Atlético-MG: \"))\n",
    "    gols_oponente = int(input(\"Gols do oponente: \"))\n",
    "    cont += 1\n",
    "    if gols_atletico > gols_oponente:\n",
    "        vitorias += 1\n",
    "        pontuacao += 3\n",
    "    elif gols_atletico == gols_oponente:\n",
    "        empates += 1\n",
    "        pontuacao += 1\n",
    "    else:\n",
    "        derrotas += 1\n",
    "        pontuacao += 0\n",
    "\n",
    "print(f\"Vitórias: {vitorias}\")\n",
    "print(f\"Empates: {empates}\")\n",
    "print(f\"Derrotas: {derrotas}\")\n",
    "print(f\"Pontuação: {pontuacao}\")"
   ]
  },
  {
   "cell_type": "markdown",
   "id": "fc98604d",
   "metadata": {},
   "source": [
    "### Q5.\n",
    "\n",
    "Faça um programa que lê dois inteiros N e M, e imprime na tela um campo de batalha naval. O tabuleiro deve possuir N linhas e M colunas. A primeira linha é composta por um espaço em branco e o cabeçalho das colunas, ou seja, valores de 1 a M. As N linhas seguintes iniciam com o cabeçalho da linha, ou seja, seu número, seguido de M caracteres \"/\" (barra) indicando uma possível posição jogável. \n",
    "\n",
    "```\n",
    "Entrada:\n",
    "5\n",
    "4\n",
    "\n",
    "Saída:\n",
    "  1 2 3 4 \n",
    "1 / / / / \n",
    "2 / / / / \n",
    "3 / / / / \n",
    "4 / / / / \n",
    "5 / / / / \n",
    "```\n",
    "\n",
    "Para esse exercício, precisamos lembrar que o comando print implicitamente adiciona uma quebra de linha ao final da impressão. Podemos interferir no final da impressão adicionando mais uma entrada ao print. No exemplo, finalizamos cada linha com um espaço em branco:\n",
    "```python\n",
    "print(\"Texto qualquer\", end = \" \")\n",
    "```"
   ]
  },
  {
   "cell_type": "code",
   "execution_count": 5,
   "id": "a60ef197",
   "metadata": {},
   "outputs": [
    {
     "name": "stdin",
     "output_type": "stream",
     "text": [
      "Informe o número de linhas:  5\n",
      "Informe o número de colunas:  4\n"
     ]
    },
    {
     "name": "stdout",
     "output_type": "stream",
     "text": [
      "  1 2 3 4\n",
      "1 / / / / \n",
      "2 / / / / \n",
      "3 / / / / \n",
      "4 / / / / \n",
      "5 / / / / \n"
     ]
    }
   ],
   "source": [
    "## Escreva e execute seu código aqui\n",
    "n = int(input(\"Informe o número de linhas: \"))\n",
    "m = int(input(\"Informe o número de colunas: \"))\n",
    "\n",
    "cont_n = 0\n",
    "cont_m = 0\n",
    "\n",
    "print(\" \", end = \"\")\n",
    "\n",
    "for cont_m in range(1, m+1):\n",
    "    print(f\" {cont_m}\", end = \"\")\n",
    "\n",
    "print()\n",
    "\n",
    "for cont_n in range(1, n+1):\n",
    "    print(f\"{cont_n}\", \"/ \" * m)"
   ]
  },
  {
   "cell_type": "markdown",
   "id": "4654dc0b",
   "metadata": {},
   "source": [
    "---\n",
    "## Break e Continue"
   ]
  },
  {
   "cell_type": "markdown",
   "id": "24fe9d85",
   "metadata": {},
   "source": [
    "### Q6.\n",
    "\n",
    "Escreva um programa que lê uma quantidade indefinida de valores e informa o maior e o menor valor digitados. A leitura é encerrada quando o usuário digitar o valor 0 (zero).\n",
    "\n",
    "```\n",
    "Entrada:\n",
    "12\n",
    "-1\n",
    "29\n",
    "11\n",
    "-5\n",
    "0\n",
    "\n",
    "Saída:\n",
    "Maior: 29\n",
    "Menor: -5\n",
    "```"
   ]
  },
  {
   "cell_type": "code",
   "execution_count": 1,
   "id": "ee1c466a",
   "metadata": {},
   "outputs": [
    {
     "name": "stdin",
     "output_type": "stream",
     "text": [
      "Digite o 1º valor:  12\n",
      "Digite o 2º valor:  -1\n",
      "Digite o 3º valor:  29\n",
      "Digite o 4º valor:  11\n",
      "Digite o 5º valor:  -5\n",
      "Digite o 6º valor:  0\n"
     ]
    },
    {
     "name": "stdout",
     "output_type": "stream",
     "text": [
      "Maior: 29\n",
      "Menor: -5\n"
     ]
    }
   ],
   "source": [
    "## Escreva e execute seu código aqui\n",
    "valor = 0\n",
    "maior_valor = valor\n",
    "menor_valor = valor\n",
    "cont = 0\n",
    "\n",
    "while True:\n",
    "    cont += 1\n",
    "    valor = int(input(f\"Digite o {cont}º valor: \"))\n",
    "    if valor == 0:\n",
    "        break\n",
    "    elif valor > maior_valor:\n",
    "        maior_valor = valor\n",
    "    elif valor < menor_valor:\n",
    "        menor_valor = valor\n",
    "\n",
    "print(f\"Maior: {maior_valor}\")\n",
    "print(f\"Menor: {menor_valor}\")"
   ]
  },
  {
   "cell_type": "markdown",
   "id": "30d486f7",
   "metadata": {},
   "source": [
    "### Q7.\n",
    "\n",
    "Escreva um programa que lê uma quantidade indefinida de valores e informa o **produto** dos valores positivos digitados. A leitura é encerrada quando o usuário digitar o valor 0 (zero).\n",
    "\n",
    "```\n",
    "Entrada:\n",
    "2\n",
    "-1\n",
    "1\n",
    "3\n",
    "-5\n",
    "0\n",
    "\n",
    "Saída:\n",
    "Produto: 6\n",
    "```"
   ]
  },
  {
   "cell_type": "code",
   "execution_count": 2,
   "id": "2f1ac324",
   "metadata": {},
   "outputs": [
    {
     "name": "stdin",
     "output_type": "stream",
     "text": [
      "Digite o 1º valor:  2\n",
      "Digite o 2º valor:  -1\n",
      "Digite o 3º valor:  1\n",
      "Digite o 4º valor:  3\n",
      "Digite o 5º valor:  -5\n",
      "Digite o 6º valor:  0\n"
     ]
    },
    {
     "name": "stdout",
     "output_type": "stream",
     "text": [
      "Produto: 6\n"
     ]
    }
   ],
   "source": [
    "## Escreva e execute seu código aqui\n",
    "valor = 0\n",
    "produto = 1\n",
    "cont = 0\n",
    "\n",
    "while True:\n",
    "    cont += 1\n",
    "    valor = int(input(f\"Digite o {cont}º valor: \"))\n",
    "    if valor == 0:\n",
    "        break\n",
    "    elif valor > 0:\n",
    "        produto *= valor\n",
    "\n",
    "print(f\"Produto: {produto}\")"
   ]
  },
  {
   "cell_type": "markdown",
   "id": "e932f3cf",
   "metadata": {},
   "source": [
    "### Q8.\n",
    "\n",
    "Vamos fazer uma calculadora que aceita expressões aritméticas de qualquer tamanho até que o usuário digite a palavra \"Fim\". Sua calculadora executa apenas as operações \"+\", \"-\".\n",
    "\n",
    "```\n",
    "Entrada:\n",
    "5\n",
    "+\n",
    "8\n",
    "-\n",
    "3\n",
    "+\n",
    "2\n",
    "Fim\n",
    "\n",
    "Saída:\n",
    "12\n",
    "```"
   ]
  },
  {
   "cell_type": "code",
   "execution_count": 3,
   "id": "e835d870",
   "metadata": {},
   "outputs": [
    {
     "name": "stdin",
     "output_type": "stream",
     "text": [
      "Primeiro operando:  5\n",
      "Operador (+ , -):  +\n",
      "Próximo operando:  8\n",
      "Operador (+ , -):  -\n",
      "Próximo operando:  3\n",
      "Operador (+ , -):  +\n",
      "Próximo operando:  2\n",
      "Operador (+ , -):  Fim\n"
     ]
    },
    {
     "name": "stdout",
     "output_type": "stream",
     "text": [
      "Resultado: 12\n"
     ]
    }
   ],
   "source": [
    "## Escreva e execute seu código aqui\n",
    "resultado = 0\n",
    "\n",
    "n1 = int(input(\"Primeiro operando: \"))\n",
    "\n",
    "while True:    \n",
    "    operador = input(\"Operador (+ , -): \")\n",
    "    if operador == \"Fim\":\n",
    "        break\n",
    "    n2 = int(input(\"Próximo operando: \"))\n",
    "    if operador == \"+\":\n",
    "        resultado = n1 + n2\n",
    "    elif operador == \"-\":\n",
    "        resultado = n1 - n2\n",
    "    n1 = resultado\n",
    "\n",
    "print(f\"Resultado: {resultado}\")"
   ]
  }
 ],
 "metadata": {
  "kernelspec": {
   "display_name": "Python 3 (ipykernel)",
   "language": "python",
   "name": "python3"
  },
  "language_info": {
   "codemirror_mode": {
    "name": "ipython",
    "version": 3
   },
   "file_extension": ".py",
   "mimetype": "text/x-python",
   "name": "python",
   "nbconvert_exporter": "python",
   "pygments_lexer": "ipython3",
   "version": "3.12.2"
  }
 },
 "nbformat": 4,
 "nbformat_minor": 5
}
