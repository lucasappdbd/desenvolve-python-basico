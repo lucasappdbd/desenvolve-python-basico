{
 "cells": [
  {
   "cell_type": "markdown",
   "id": "0d5035b5",
   "metadata": {},
   "source": [
    "# Listas\n",
    "\n",
    "## Aulas 6.1 a 6.5 "
   ]
  },
  {
   "cell_type": "markdown",
   "id": "0bdece85",
   "metadata": {},
   "source": [
    "### Q1. \n",
    "\n",
    "Usando a função embutida ```map``` e criando uma função ```lambda```, transforme uma lista com os raios de múltiplas circunferências em uma nova lista com as respectivas áreas. O cálculo de cada área é dado por: ```pi*(raio**2)```\n",
    "- Use a constante pi da biblioteca math \n",
    "- Arredonde o resultado para 2 casas decimais\n"
   ]
  },
  {
   "cell_type": "code",
   "execution_count": 1,
   "id": "0a258eba",
   "metadata": {},
   "outputs": [
    {
     "name": "stdout",
     "output_type": "stream",
     "text": [
      "[7.07, 2.01, 16.62, 78.54]\n"
     ]
    }
   ],
   "source": [
    "## Complete a solução\n",
    "import math\n",
    "raios = [1.5, 0.8, 2.3, 5.0]\n",
    "\n",
    "## Complete a solução\n",
    "areas = map(lambda r: round(math.pi * (r**2), 2), raios)\n",
    "print(list(areas))"
   ]
  },
  {
   "cell_type": "markdown",
   "id": "649a5082",
   "metadata": {},
   "source": [
    "### Q2. \n",
    "\n",
    "Crie uma função customizada e aplique a função embutida ```filter``` para operar em uma lista de listas contendo os lados de múltiplos triângulos. Construa uma nova lista contendo apenas os triângulos equiláteros, ou seja, com os três lados iguais.\n"
   ]
  },
  {
   "cell_type": "code",
   "execution_count": 2,
   "id": "47cb0573",
   "metadata": {},
   "outputs": [
    {
     "name": "stdout",
     "output_type": "stream",
     "text": [
      "[[2, 2, 2], [4, 4, 4]]\n"
     ]
    }
   ],
   "source": [
    "## Crie a função customizada\n",
    "def testa_equilatero(t):\n",
    "    if t[0] == t[1] and t[1] == t[2]:\n",
    "        return True\n",
    "    return False\n",
    "    ### \n",
    "\n",
    "### Usando filter, aplique a função customizada aos seguintes triangulos\n",
    "triangulos  = [[2,2,2], [3,4,5], [3,2,2],[4,4,4]]\n",
    "equilateros = filter(testa_equilatero, triangulos)\n",
    "print(list(equilateros))"
   ]
  },
  {
   "cell_type": "markdown",
   "id": "bb62d219",
   "metadata": {},
   "source": [
    "### Q3. \n",
    "Crie uma função chamada ```ordena_por_comprimento``` que aceite uma lista de strings e a ordene com base no comprimento das strings, do menor para o maior. Utilize a função ```sorte``` e uma expressão ```lambda```."
   ]
  },
  {
   "cell_type": "code",
   "execution_count": 3,
   "id": "add41556",
   "metadata": {},
   "outputs": [
    {
     "name": "stdout",
     "output_type": "stream",
     "text": [
      "Lista original: ['Joao', 'Maria', 'Jose', 'Gabriela', 'Sol', 'Luna', 'Bento', 'Enzo', 'Fernanda']\n",
      "Lista ordenada: ['Sol', 'Enzo', 'Joao', 'Jose', 'Luna', 'Bento', 'Maria', 'Fernanda', 'Gabriela']\n"
     ]
    }
   ],
   "source": [
    "### crie a função ordena_por_comprimento e retorne a lista resultado\n",
    "def ordena_por_comprimento(x,y):\n",
    "    return [x, y]\n",
    "\n",
    "### aplique sua função à seguinte lista e imprima o resultado\n",
    "nomes = [\"Joao\", \"Maria\", \"Jose\", \"Gabriela\", \"Sol\", \"Luna\", \"Bento\", \"Enzo\", \"Fernanda\"]\n",
    "\n",
    "comprimentos = ([len(nomes[i]) for i in range(len(nomes))])\n",
    "lista_juntada = sorted(list(map(ordena_por_comprimento, comprimentos, nomes)))\n",
    "\n",
    "ordenada = list(map(lambda i: lista_juntada[i][1], range(len(nomes))))\n",
    "\n",
    "print(f\"Lista original: {nomes}\")\n",
    "print(f\"Lista ordenada: {ordenada}\")"
   ]
  },
  {
   "cell_type": "markdown",
   "id": "8710b1a7",
   "metadata": {},
   "source": [
    "### Q4.\n",
    "\n",
    "Crie uma lista de listas (uma matriz de 2 dimensões) de tamanho $n \\times n$, com $n$ dado pelo usuário. Cada elemento da matriz deve ser o produto dos índices da linha pela coluna.\n",
    "\n",
    "Exemplo:\n",
    "```\n",
    "Digite n: 4\n",
    "Matriz:\n",
    "[[0, 0, 0, 0],\n",
    " [0, 1, 2, 3],\n",
    " [0, 2, 4, 6],\n",
    " [0, 3, 6, 9]]\n",
    "```"
   ]
  },
  {
   "cell_type": "code",
   "execution_count": 4,
   "id": "0b7ee921",
   "metadata": {},
   "outputs": [
    {
     "name": "stdin",
     "output_type": "stream",
     "text": [
      "Digite o número de linhas e colunas:  4\n"
     ]
    },
    {
     "name": "stdout",
     "output_type": "stream",
     "text": [
      "Matriz:\n",
      "[[0, 0, 0, 0],\n",
      " [0, 1, 2, 3],\n",
      " [0, 2, 4, 6],\n",
      " [0, 3, 6, 9]]\n"
     ]
    }
   ],
   "source": [
    "# Implemente sua solução aqui\n",
    "n = int(input(\"Digite o número de linhas e colunas: \"))\n",
    "\n",
    "matriz = []\n",
    "\n",
    "cont = 0\n",
    "linha = 0\n",
    " \n",
    "for i in range(n):\n",
    "    matriz.append(list())\n",
    "\n",
    "while True:\n",
    "    if cont > n:\n",
    "        break\n",
    "    for i in range(linha):\n",
    "        matriz[i] = [i*linha for linha in range(n)]\n",
    "    linha += 1\n",
    "    cont += 1\n",
    "\n",
    "print(\"Matriz:\")\n",
    "for i in range(n):\n",
    "    if i == 0:\n",
    "        print(f\"[{matriz[i]},\")\n",
    "    elif i < n-1:\n",
    "        print(f\" {matriz[i]},\")\n",
    "    else:\n",
    "        print(f\" {matriz[i]}]\")"
   ]
  },
  {
   "cell_type": "markdown",
   "id": "f41781df",
   "metadata": {},
   "source": [
    "### Q5.\n",
    "\n",
    "Dada uma lista de números inteiros, implemente uma função em Python chamada ```pares_unicos``` que encontre e retorne todos os pares únicos de elementos na lista cuja soma seja igual a um determinado valor. Considere que a ordem dos pares não é relevante."
   ]
  },
  {
   "cell_type": "code",
   "execution_count": 5,
   "id": "7a76f765",
   "metadata": {},
   "outputs": [
    {
     "name": "stdout",
     "output_type": "stream",
     "text": [
      "Lista: [3, 4, 5, 6, 7]\n",
      "Resultado: [(3, 7), (4, 6)]\n"
     ]
    }
   ],
   "source": [
    "# Implemente sua solução aqui\n",
    "def pares_unicos(numeros, soma_objetivo):\n",
    "    cont = 0\n",
    "    comprimento = len(numeros)\n",
    "    pares = []\n",
    "    while True:\n",
    "        if cont == len(numeros):\n",
    "            break\n",
    "        if (numeros[cont] + numeros[comprimento -1] == soma_objetivo) and ((numeros[cont]) != (numeros[comprimento -1])) \\\n",
    "            and not (((numeros[cont]) or (numeros[comprimento -1])) in pares):\n",
    "            pares.append(numeros[cont])\n",
    "            pares.append(numeros[comprimento -1])\n",
    "        cont += 1\n",
    "        comprimento -= 1\n",
    "    return pares\n",
    "\n",
    "nums = [3, 4, 5, 6, 7]\n",
    "\n",
    "resultado = pares_unicos(nums, 10)\n",
    "\n",
    "print(f\"Lista: {nums}\")\n",
    "\n",
    "print(f\"Resultado: [\", end=\"\")\n",
    "for i in range(len(resultado)):\n",
    "    if i % 2 == 0:\n",
    "        print(f\"({resultado[i]}\", end=\"\")\n",
    "    elif i == (len(resultado) - 1):\n",
    "        print(f\", {resultado[i]})\", end=\"\")\n",
    "    else:\n",
    "        print(f\", {resultado[i]}), \", end=\"\")\n",
    "print(\"]\")"
   ]
  },
  {
   "cell_type": "markdown",
   "id": "87e44893",
   "metadata": {},
   "source": [
    "### Q5.\n",
    "\n",
    "Escreva um programa para encontrar a diferença entre duas listas, incluindo elementos duplicados.\n",
    "\n",
    "Ex:\n",
    "```\n",
    "Listas originais: \n",
    "[1, 1, 2, 3, 3, 4, 4, 5, 6, 7]\n",
    "[1, 1, 2, 4, 5, 6]\n",
    "Diferença entre as listas:\n",
    "[3, 3, 4, 7]\n",
    "```"
   ]
  },
  {
   "cell_type": "code",
   "execution_count": 6,
   "id": "7edc027c",
   "metadata": {},
   "outputs": [
    {
     "name": "stdout",
     "output_type": "stream",
     "text": [
      "Maior lista: [1, 1, 2, 3, 3, 4, 4, 5, 6, 7]\n",
      "Menor lista: [1, 1, 2, 4, 5, 6]\n",
      "Diferença: [3, 3, 4, 7]\n"
     ]
    }
   ],
   "source": [
    "# Implemente sua solução aqui\n",
    "lista_a = [1, 1, 2, 3, 3, 4, 4, 5, 6, 7]\n",
    "lista_b = [1, 1, 2, 4, 5, 6]\n",
    "\n",
    "menor_lista = lista_a if (len(lista_a) <= (len(lista_b))) else lista_b\n",
    "maior_lista = lista_a if (len(lista_a) >= (len(lista_b))) else lista_b\n",
    "\n",
    "print(f\"Maior lista: {maior_lista}\")\n",
    "print(f\"Menor lista: {menor_lista}\")\n",
    "\n",
    "diferenca = []\n",
    "\n",
    "for i in maior_lista:\n",
    "    if i in menor_lista:\n",
    "        menor_lista.remove(i)\n",
    "    else:\n",
    "        diferenca.append(i)\n",
    "\n",
    "print(f\"Diferença: {diferenca}\")"
   ]
  },
  {
   "cell_type": "markdown",
   "id": "f4c4236d",
   "metadata": {},
   "source": [
    "### Q6.\n",
    "\n",
    "Dada uma lista aleatória, escreva um programa que separa os valores em listas menores de acordo com o tamanho solicitado. Caso não seja possível repartir igualmente a lista original, a última sublista deve conter os elementos remanescentes, como indicado no exemplo a seguir.\n",
    "\n",
    "Note que seu programa deve continuar executando em um laço infinito até que o usuário informe o tamanho 0 na entrada solicitada.\n",
    "\n",
    "```\n",
    "Lista original:\n",
    "[12, 45, 23, 67, 78, 90, 45, 32, 100, 76, 38, 62, 73, 29, 83]\n",
    "\n",
    "Tamanho para divisão: 3\n",
    "Subslistas:\n",
    "[[12, 45, 23], [67, 78, 90], [45, 32, 100], [76, 38, 62], [73, 29, 83]]\n",
    "\n",
    "Tamanho para divisão: 4\n",
    "Subslistas: [[12, 45, 23, 67], [78, 90, 45, 32], [100, 76, 38, 62], [73, 29, 83]]\n",
    "\n",
    "Tamanho para divisão: 0\n",
    "```"
   ]
  },
  {
   "cell_type": "code",
   "execution_count": 7,
   "id": "792563de",
   "metadata": {},
   "outputs": [
    {
     "name": "stdin",
     "output_type": "stream",
     "text": [
      "Informe o número de elementos da lista:  20\n"
     ]
    },
    {
     "name": "stdout",
     "output_type": "stream",
     "text": [
      "Lista original: [61, 44, 49, 99, 91, 35, 88, 87, 90, 86, 63, 71, 78, 85, 74, 60, 52, 86, 68, 19]\n"
     ]
    },
    {
     "name": "stdin",
     "output_type": "stream",
     "text": [
      "Tamanho para divisão:  3\n"
     ]
    },
    {
     "name": "stdout",
     "output_type": "stream",
     "text": [
      "[[61, 44, 49], [99, 91, 35], [88, 87, 90], [86, 63, 71], [78, 85, 74], [60, 52, 86], [68, 19]]\n"
     ]
    },
    {
     "name": "stdin",
     "output_type": "stream",
     "text": [
      "Tamanho para divisão:  4\n"
     ]
    },
    {
     "name": "stdout",
     "output_type": "stream",
     "text": [
      "[[61, 44, 49, 99], [91, 35, 88, 87], [90, 86, 63, 71], [78, 85, 74, 60], [52, 86, 68, 19]]\n"
     ]
    },
    {
     "name": "stdin",
     "output_type": "stream",
     "text": [
      "Tamanho para divisão:  5\n"
     ]
    },
    {
     "name": "stdout",
     "output_type": "stream",
     "text": [
      "[[61, 44, 49, 99, 91], [35, 88, 87, 90, 86], [63, 71, 78, 85, 74], [60, 52, 86, 68, 19]]\n"
     ]
    },
    {
     "name": "stdin",
     "output_type": "stream",
     "text": [
      "Tamanho para divisão:  0\n"
     ]
    },
    {
     "name": "stdout",
     "output_type": "stream",
     "text": [
      "Fim\n"
     ]
    }
   ],
   "source": [
    "# Implemente sua solução aqui\n",
    "import random\n",
    "\n",
    "n = int(input(\"Informe o número de elementos da lista: \"))\n",
    "\n",
    "lista = [random.randint(1,100) for i in range(n)]\n",
    "listas = []\n",
    "\n",
    "print(f\"Lista original: {lista}\")\n",
    "\n",
    "while True:\n",
    "    tamanho = int(input(\"Tamanho para divisão: \"))\n",
    "\n",
    "    if tamanho == 0:\n",
    "        print(\"Fim\")\n",
    "        break\n",
    "\n",
    "    if len(lista) % tamanho == 0:\n",
    "        for i in range(len(lista) // tamanho):\n",
    "            listas.append(list())\n",
    "    else:\n",
    "        for i in range((len(lista) // tamanho) + 1):\n",
    "            listas.append(list())\n",
    "\n",
    "    for i in range(len(listas)):\n",
    "        listas[i] += (lista[(i*tamanho):((i+1)*tamanho)])\n",
    "\n",
    "    print(listas)\n",
    "    listas = []"
   ]
  },
  {
   "cell_type": "markdown",
   "id": "c65be32f",
   "metadata": {},
   "source": [
    "### Q7.\n",
    "\n",
    "Você está desenvolvendo um programa para determinar o vencedor de um jogo da velha. Escreva uma função ```avalia_tabuleiro()``` que recebe uma lista representando o estado atual do tabuleiro e determina se há um vencedor. \n",
    "\n",
    "A lista terá 3 sublistas, cada uma representando uma linha do tabuleiro. Cada elemento das sublistas pode ser 'X', 'O' ou vazio (' ').\n",
    "\n",
    "O programa deve imprimir o vencedor ('X', 'O'), se houver um, ou \"Empate\" se não houver vencedor. Um vencedor é determinado se houver três 'X' ou três 'O' em linha (horizontal, vertical ou diagonal).\n",
    "\n",
    "Exemplo:\n",
    "```python\n",
    "tabuleiro = [\n",
    "    ['X', 'O', 'X'],\n",
    "    [' ', 'X', 'O'],\n",
    "    ['O', ' ', 'O']\n",
    "]\n",
    "```\n",
    "O resultado seria \"Empate\", pois não há um vencedor no exemplo fornecido. \n",
    "\n",
    "Exemplo 2:\n",
    "```python\n",
    "tabuleiro = [\n",
    "    ['O', 'X', 'O'],\n",
    "    ['X', 'O', 'X'],\n",
    "    ['X', ' ', 'O']\n",
    "]\n",
    "```\n",
    "O resultado seria \"O\", pois 'O' venceu na diagonal central."
   ]
  },
  {
   "cell_type": "code",
   "execution_count": 8,
   "id": "720ca24d",
   "metadata": {},
   "outputs": [
    {
     "name": "stdout",
     "output_type": "stream",
     "text": [
      "Tabuleiro:\n",
      "['X', 'O', 'X']\n",
      "[' ', 'X', 'O']\n",
      "['O', ' ', 'O']\n",
      "Resultado: Empate\n",
      "\n",
      "Tabuleiro:\n",
      "['X', 'O', 'X']\n",
      "[' ', 'X', 'O']\n",
      "['O', ' ', 'X']\n",
      "Resultado: Vencedor: X\n",
      "\n",
      "Tabuleiro:\n",
      "['X', 'O', 'O']\n",
      "['X', 'X', 'O']\n",
      "['X', 'O', 'X']\n",
      "Resultado: Vencedor: X\n",
      "\n",
      "Tabuleiro:\n",
      "[' ', ' ', ' ']\n",
      "['X', ' ', 'O']\n",
      "['O', 'X', 'X']\n",
      "Resultado: Empate\n",
      "\n",
      "Tabuleiro:\n",
      "['O', 'O', 'O']\n",
      "['X', ' ', 'X']\n",
      "['O', 'X', 'X']\n",
      "Resultado: Vencedor: O\n",
      "\n",
      "Tabuleiro:\n",
      "['X', 'X', 'O']\n",
      "['X', ' ', 'O']\n",
      "['O', 'O', 'X']\n",
      "Resultado: Empate\n"
     ]
    }
   ],
   "source": [
    "### Escreva a função avalia_tabuleiro()\n",
    "def avalia_tabuleiro(tabuleiro):\n",
    "    if ((tabuleiro[0][0]) == (tabuleiro[0][1])) and ((tabuleiro[0][1]) == (tabuleiro[0][2])) and (((tabuleiro[0])[0]) != \" \"):\n",
    "        vencedor = (f\"Vencedor: {(tabuleiro[0])[0]}\")\n",
    "    elif ((tabuleiro[1][0]) == (tabuleiro[1][1])) and ((tabuleiro[1][1]) == (tabuleiro[1][2])) and (((tabuleiro[1])[0]) != \" \"):\n",
    "        vencedor = (f\"Vencedor: {(tabuleiro[1])[0]}\")\n",
    "    elif ((tabuleiro[2][0]) == (tabuleiro[2][1])) and ((tabuleiro[2][1]) == (tabuleiro[2][2])) and (((tabuleiro[2])[0]) != \" \"):\n",
    "        vencedor = (f\"Vencedor: {(tabuleiro[2])[0]}\")\n",
    "    elif ((tabuleiro[0][0]) == (tabuleiro[1][0])) and ((tabuleiro[1][0]) == (tabuleiro[2][0])) and (((tabuleiro[0])[0]) != \" \"):\n",
    "        vencedor = (f\"Vencedor: {(tabuleiro[0])[0]}\")\n",
    "    elif ((tabuleiro[0][1]) == (tabuleiro[1][1])) and ((tabuleiro[1][1]) == (tabuleiro[2][1])) and (((tabuleiro[0])[1]) != \" \"):\n",
    "        vencedor = (f\"Vencedor: {(tabuleiro[0])[1]}\")\n",
    "    elif ((tabuleiro[0][2]) == (tabuleiro[1][2])) and ((tabuleiro[1][2]) == (tabuleiro[2][2])) and (((tabuleiro[0])[2]) != \" \"):\n",
    "        vencedor = (f\"Vencedor: {(tabuleiro[0])[2]}\")\n",
    "    elif ((tabuleiro[0][0]) == (tabuleiro[1][1])) and ((tabuleiro[1][1]) == (tabuleiro[2][2])) and (((tabuleiro[0])[0]) != \" \"):\n",
    "        vencedor = (f\"Vencedor: {(tabuleiro[0])[0]}\")\n",
    "    elif ((tabuleiro[0][2]) == (tabuleiro[1][1])) and ((tabuleiro[1][1]) == (tabuleiro[2][0])) and (((tabuleiro[0])[2]) != \" \"):\n",
    "        vencedor = (f\"Vencedor: {(tabuleiro[0])[2]}\")\n",
    "    else:\n",
    "        vencedor = \"Empate\"\n",
    "    return vencedor\n",
    "\n",
    "### teste a função nos seguintes tabuleiros\n",
    "tabuleiro = [\n",
    "    ['X', 'O', 'X'],\n",
    "    [' ', 'X', 'O'],\n",
    "    ['O', ' ', 'O']\n",
    "]\n",
    "\n",
    "resultado = avalia_tabuleiro(tabuleiro)\n",
    "\n",
    "print(\"Tabuleiro:\")\n",
    "\n",
    "print(tabuleiro[0])\n",
    "print(tabuleiro[1])\n",
    "print(tabuleiro[2])\n",
    "\n",
    "print(f\"Resultado: {resultado}\")\n",
    "print()\n",
    "\n",
    "tabuleiro1 = [\n",
    "    ['X', 'O', 'X'],\n",
    "    [' ', 'X', 'O'],\n",
    "    ['O', ' ', 'X']\n",
    "]\n",
    "\n",
    "resultado = avalia_tabuleiro(tabuleiro1)\n",
    "\n",
    "print(\"Tabuleiro:\")\n",
    "\n",
    "print(tabuleiro1[0])\n",
    "print(tabuleiro1[1])\n",
    "print(tabuleiro1[2])\n",
    "\n",
    "print(f\"Resultado: {resultado}\")\n",
    "print()\n",
    "\n",
    "tabuleiro2 = [\n",
    "    ['X', 'O', 'O'],\n",
    "    ['X', 'X', 'O'],\n",
    "    ['X', 'O', 'X']\n",
    "]\n",
    "\n",
    "resultado = avalia_tabuleiro(tabuleiro2)\n",
    "\n",
    "print(\"Tabuleiro:\")\n",
    "\n",
    "print(tabuleiro2[0])\n",
    "print(tabuleiro2[1])\n",
    "print(tabuleiro2[2])\n",
    "\n",
    "print(f\"Resultado: {resultado}\")\n",
    "print()\n",
    "\n",
    "tabuleiro3 = [\n",
    "    [' ', ' ', ' '],\n",
    "    ['X', ' ', 'O'],\n",
    "    ['O', 'X', 'X']\n",
    "]\n",
    "\n",
    "resultado = avalia_tabuleiro(tabuleiro3)\n",
    "\n",
    "print(\"Tabuleiro:\")\n",
    "\n",
    "print(tabuleiro3[0])\n",
    "print(tabuleiro3[1])\n",
    "print(tabuleiro3[2])\n",
    "\n",
    "print(f\"Resultado: {resultado}\")\n",
    "print()\n",
    "\n",
    "tabuleiro4 = [\n",
    "    ['O', 'O', 'O'],\n",
    "    ['X', ' ', 'X'],\n",
    "    ['O', 'X', 'X']\n",
    "]\n",
    "\n",
    "resultado = avalia_tabuleiro(tabuleiro4)\n",
    "\n",
    "print(\"Tabuleiro:\")\n",
    "\n",
    "print(tabuleiro4[0])\n",
    "print(tabuleiro4[1])\n",
    "print(tabuleiro4[2])\n",
    "\n",
    "print(f\"Resultado: {resultado}\")\n",
    "print()\n",
    "\n",
    "tabuleiro5 = [\n",
    "    ['X', 'X', 'O'],\n",
    "    ['X', ' ', 'O'],\n",
    "    ['O', 'O', 'X']\n",
    "]\n",
    "\n",
    "resultado = avalia_tabuleiro(tabuleiro5)\n",
    "\n",
    "print(\"Tabuleiro:\")\n",
    "\n",
    "print(tabuleiro5[0])\n",
    "print(tabuleiro5[1])\n",
    "print(tabuleiro5[2])\n",
    "\n",
    "print(f\"Resultado: {resultado}\")"
   ]
  }
 ],
 "metadata": {
  "kernelspec": {
   "display_name": "Python 3 (ipykernel)",
   "language": "python",
   "name": "python3"
  },
  "language_info": {
   "codemirror_mode": {
    "name": "ipython",
    "version": 3
   },
   "file_extension": ".py",
   "mimetype": "text/x-python",
   "name": "python",
   "nbconvert_exporter": "python",
   "pygments_lexer": "ipython3",
   "version": "3.12.2"
  }
 },
 "nbformat": 4,
 "nbformat_minor": 5
}
